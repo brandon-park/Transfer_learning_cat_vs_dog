{
 "cells": [
  {
   "cell_type": "markdown",
   "metadata": {},
   "source": [
    "# <center> Cats Vs Dogs Image Classification using Transfer Learning"
   ]
  },
  {
   "cell_type": "markdown",
   "metadata": {},
   "source": [
    "<center> <img src=\"https://github.com/brandon-park/Transfer_learning_cat_vs_dog/blob/main/Header_Cats-vs-Dogs-951x512.png?raw=true\" width=\"70%\"/>"
   ]
  },
  {
   "cell_type": "markdown",
   "metadata": {},
   "source": [
    "## TOC:\n",
    "\n",
    "1. [Introduction](#Introduction)\n",
    "2. [Data preprocessing](#preprocessing)\n",
    "3. [Transfer Learning](#Transfer-Learning)\n",
    "4. [Prediction on testing data](#Prediction)"
   ]
  },
  {
   "cell_type": "markdown",
   "metadata": {},
   "source": [
    "## Introduction <a name=\"Introduction\"></a>\n",
    "\n",
    "\n",
    "### Benefits of Transfer Learning\n",
    "\n",
    "In transfer learning, a machine learning model is trained on one kind of problem, and then used on a different but related problem, drawing on the knowledge it already has while learning its new task. This could be as simple as training a model to recognize giraffes in images, and then making use of this pre-existing expertise to teach the same model to recognize pictures of sheep.\n",
    "\n",
    "The main benefits of transfer learning for machine learning include:\n",
    "\n",
    "- Removing the need for a large set of labelled training data for every new model.\n",
    "- Improving the efficiency of machine learning development and deployment for multiple models.\n",
    "- A more generalised approach to machine problem solving, leveraging different algorithms to solve new challenges.\n",
    "- Models can be trained within simulations instead of real-world environments.\n",
    "\n",
    "https://www.seldon.io/transfer-learning#:~:text=The%20main%20benefits%20of%20transfer,model%20will%20be%20pre%2Dtrained\n",
    "https://www.sparkcognition.com/transfer-learning-machine-learning/?utm_source=www.google.com&utm_medium=organic&utm_campaign=Google&referrer-analytics=1\n",
    "\n",
    "### Note\n",
    "\n",
    "This Notebook should be run in Kaggle to import the dataset.\n",
    "\n",
    "- Competition name: dogs-vs-cats-redux-kernels-edition\n",
    "- Train.zip: 569 mb\n",
    "- Test.zup: 284 mb\n",
    "\n",
    "https://www.kaggle.com/c/dogs-vs-cats-redux-kernels-edition"
   ]
  },
  {
   "cell_type": "code",
   "execution_count": null,
   "metadata": {},
   "outputs": [],
   "source": []
  },
  {
   "cell_type": "markdown",
   "metadata": {
    "execution": {
     "iopub.execute_input": "2022-04-03T17:34:03.149206Z",
     "iopub.status.busy": "2022-04-03T17:34:03.148485Z",
     "iopub.status.idle": "2022-04-03T17:34:03.153052Z",
     "shell.execute_reply": "2022-04-03T17:34:03.152201Z",
     "shell.execute_reply.started": "2022-04-03T17:34:03.149164Z"
    }
   },
   "source": [
    "## Data preprocessing <a name=\"preprocessing\"></a>\n",
    "\n",
    "Since the Kaggle's free GPU/RAM is limited, we need to decrease the size of the raw image file so that entire traning process can be finished within the computing power."
   ]
  },
  {
   "cell_type": "code",
   "execution_count": 1,
   "metadata": {
    "execution": {
     "iopub.execute_input": "2022-05-29T04:39:45.103049Z",
     "iopub.status.busy": "2022-05-29T04:39:45.102013Z",
     "iopub.status.idle": "2022-05-29T04:39:51.832078Z",
     "shell.execute_reply": "2022-05-29T04:39:51.831266Z",
     "shell.execute_reply.started": "2022-05-29T04:39:45.102954Z"
    }
   },
   "outputs": [],
   "source": [
    "# https://www.kaggle.com/code/georgesaavedra/dogs-vs-cats-best-transfer-learning\n",
    "\n",
    "\n",
    "import os\n",
    "import numpy as np\n",
    "import pandas as pd\n",
    "import seaborn as sns\n",
    "import matplotlib.pyplot as plt\n",
    "import cv2\n",
    "import zipfile\n",
    "\n",
    "from sklearn.model_selection import train_test_split\n",
    "from tqdm import tqdm\n",
    "\n",
    "import random\n",
    "\n",
    "import tensorflow as tf\n",
    "from sklearn.metrics import confusion_matrix\n",
    "import itertools\n",
    "\n",
    "from tensorflow.keras.models import Sequential\n",
    "from tensorflow.keras.layers import Dense, Dropout, Flatten, Conv2D, MaxPool2D, BatchNormalization\n",
    "from tensorflow.keras.optimizers import RMSprop,Adam,SGD,Adadelta\n",
    "from tensorflow.keras.preprocessing.image import ImageDataGenerator\n",
    "\n",
    "from tensorflow.keras.applications import EfficientNetB0\n",
    "from tensorflow.keras.applications.efficientnet import preprocess_input\n",
    "\n",
    "from tensorflow.keras.applications import VGG16\n",
    "from tensorflow.keras.applications.vgg16 import preprocess_input"
   ]
  },
  {
   "cell_type": "code",
   "execution_count": 2,
   "metadata": {
    "execution": {
     "iopub.execute_input": "2022-05-29T04:39:51.834227Z",
     "iopub.status.busy": "2022-05-29T04:39:51.833570Z",
     "iopub.status.idle": "2022-05-29T04:39:51.843214Z",
     "shell.execute_reply": "2022-05-29T04:39:51.841338Z",
     "shell.execute_reply.started": "2022-05-29T04:39:51.834189Z"
    }
   },
   "outputs": [],
   "source": [
    "# Get the list of available data\n",
    "print(os.listdir(\"../input/dogs-vs-cats-redux-kernels-edition\"))"
   ]
  },
  {
   "cell_type": "code",
   "execution_count": 3,
   "metadata": {
    "execution": {
     "iopub.execute_input": "2022-05-29T04:39:51.845340Z",
     "iopub.status.busy": "2022-05-29T04:39:51.844784Z",
     "iopub.status.idle": "2022-05-29T04:40:09.494514Z",
     "shell.execute_reply": "2022-05-29T04:40:09.493720Z",
     "shell.execute_reply.started": "2022-05-29T04:39:51.845305Z"
    }
   },
   "outputs": [],
   "source": [
    "# Unzip the image file\n",
    "\n",
    "with zipfile.ZipFile('../input/dogs-vs-cats-redux-kernels-edition/test.zip','r') as z:\n",
    "    z.extractall('.')\n",
    "    \n",
    "with zipfile.ZipFile('../input/dogs-vs-cats-redux-kernels-edition/train.zip','r') as z:\n",
    "    z.extractall('.')"
   ]
  },
  {
   "cell_type": "code",
   "execution_count": 4,
   "metadata": {
    "execution": {
     "iopub.execute_input": "2022-05-29T04:40:09.497302Z",
     "iopub.status.busy": "2022-05-29T04:40:09.496880Z",
     "iopub.status.idle": "2022-05-29T04:40:09.526310Z",
     "shell.execute_reply": "2022-05-29T04:40:09.525643Z",
     "shell.execute_reply.started": "2022-05-29T04:40:09.497266Z"
    }
   },
   "outputs": [],
   "source": [
    "# Check the number of available raw image file\n",
    "len(os.listdir('/kaggle/working/train/')), len(os.listdir('/kaggle/working/test/'))"
   ]
  },
  {
   "cell_type": "code",
   "execution_count": 5,
   "metadata": {
    "execution": {
     "iopub.execute_input": "2022-05-29T04:40:09.528241Z",
     "iopub.status.busy": "2022-05-29T04:40:09.527457Z",
     "iopub.status.idle": "2022-05-29T04:41:02.343748Z",
     "shell.execute_reply": "2022-05-29T04:41:02.342990Z",
     "shell.execute_reply.started": "2022-05-29T04:40:09.528205Z"
    }
   },
   "outputs": [],
   "source": [
    "# Resize the image to reduce RAM usage and faster training\n",
    "\n",
    "IMG_SIZE = 80\n",
    "Images_train = []\n",
    "Images_label = []\n",
    "for i in tqdm(os.listdir('/kaggle/working/train/')):\n",
    "    label = i.split('.')[0]\n",
    "    if label == 'cat':\n",
    "        label = 0\n",
    "    elif label == 'dog':\n",
    "        label = 1\n",
    "    img = cv2.imread('/kaggle/working/train/'+i, cv2.IMREAD_COLOR)\n",
    "    img = cv2.resize(img,(IMG_SIZE,IMG_SIZE), interpolation=cv2.INTER_CUBIC)\n",
    "    Images_train.append([np.array(img), np.array(label)])"
   ]
  },
  {
   "cell_type": "code",
   "execution_count": 6,
   "metadata": {
    "execution": {
     "iopub.execute_input": "2022-05-29T04:41:02.345599Z",
     "iopub.status.busy": "2022-05-29T04:41:02.345102Z",
     "iopub.status.idle": "2022-05-29T04:41:29.095728Z",
     "shell.execute_reply": "2022-05-29T04:41:29.094927Z",
     "shell.execute_reply.started": "2022-05-29T04:41:02.345563Z"
    }
   },
   "outputs": [],
   "source": [
    "# Resize the image to reduce RAM usage and faster training\n",
    "\n",
    "Images_test = []\n",
    "for j in tqdm(os.listdir('/kaggle/working/test/')):\n",
    "    index = j.split('.')[0]\n",
    "    img = cv2.imread('/kaggle/working/test/'+j, cv2.IMREAD_COLOR)\n",
    "    img = cv2.resize(img,(IMG_SIZE,IMG_SIZE), interpolation = cv2.INTER_CUBIC)\n",
    "    Images_test.append([np.array(img), np.array(index)])\n",
    "random.shuffle(Images_train)"
   ]
  },
  {
   "cell_type": "code",
   "execution_count": 7,
   "metadata": {
    "execution": {
     "iopub.execute_input": "2022-05-29T04:41:29.097539Z",
     "iopub.status.busy": "2022-05-29T04:41:29.097076Z",
     "iopub.status.idle": "2022-05-29T04:41:29.291443Z",
     "shell.execute_reply": "2022-05-29T04:41:29.290664Z",
     "shell.execute_reply.started": "2022-05-29T04:41:29.097501Z"
    }
   },
   "outputs": [],
   "source": [
    "# Check the dimension of the data after the resizing\n",
    "\n",
    "Images = np.array([i[0] for i in Images_train]).reshape(-1,IMG_SIZE,IMG_SIZE,3)\n",
    "Label = np.array([i[1] for i in Images_train])\n",
    "Images.shape, Label.shape"
   ]
  },
  {
   "cell_type": "code",
   "execution_count": 8,
   "metadata": {
    "execution": {
     "iopub.execute_input": "2022-05-29T04:41:29.293098Z",
     "iopub.status.busy": "2022-05-29T04:41:29.292535Z",
     "iopub.status.idle": "2022-05-29T04:41:29.444511Z",
     "shell.execute_reply": "2022-05-29T04:41:29.443676Z",
     "shell.execute_reply.started": "2022-05-29T04:41:29.293059Z"
    }
   },
   "outputs": [],
   "source": [
    "# Train / Validation split\n",
    "\n",
    "X_train, X_val, Y_train, Y_val = train_test_split(Images, Label, test_size = 0.1)\n",
    "X_train.shape, Y_train.shape, X_val.shape, Y_val.shape"
   ]
  },
  {
   "cell_type": "code",
   "execution_count": null,
   "metadata": {},
   "outputs": [],
   "source": []
  },
  {
   "cell_type": "markdown",
   "metadata": {},
   "source": [
    "## Transfer Learning <a name=\"Transfer-Learning\"></a>"
   ]
  },
  {
   "cell_type": "markdown",
   "metadata": {},
   "source": [
    "## EfficientNetB0 Modeling\n",
    "\n",
    "This analysis used transfer learning from 2 existing models, EfficientNetB0 and VGG 16."
   ]
  },
  {
   "cell_type": "code",
   "execution_count": 9,
   "metadata": {
    "execution": {
     "iopub.execute_input": "2022-05-29T04:41:29.446588Z",
     "iopub.status.busy": "2022-05-29T04:41:29.445971Z",
     "iopub.status.idle": "2022-05-29T04:41:29.451959Z",
     "shell.execute_reply": "2022-05-29T04:41:29.451178Z",
     "shell.execute_reply.started": "2022-05-29T04:41:29.446546Z"
    }
   },
   "outputs": [],
   "source": [
    "# Use ImageDataGenerator to fit the training data\n",
    "datagen = ImageDataGenerator(\n",
    "    featurewise_center=False,\n",
    "    samplewise_center=False,\n",
    "    featurewise_std_normalization=False,\n",
    "    samplewise_std_normalization=False,\n",
    "    zca_whitening=False,\n",
    "    rotation_range=10,\n",
    "    zoom_range = 0.1,\n",
    "    width_shift_range=0.1,\n",
    "    height_shift_range=0.1,\n",
    "    horizontal_flip=True,\n",
    "    vertical_flip=False) "
   ]
  },
  {
   "cell_type": "code",
   "execution_count": 10,
   "metadata": {
    "execution": {
     "iopub.execute_input": "2022-05-29T04:41:29.455428Z",
     "iopub.status.busy": "2022-05-29T04:41:29.454923Z",
     "iopub.status.idle": "2022-05-29T04:41:30.495017Z",
     "shell.execute_reply": "2022-05-29T04:41:30.494232Z",
     "shell.execute_reply.started": "2022-05-29T04:41:29.455392Z"
    }
   },
   "outputs": [],
   "source": [
    "datagen.fit(X_train)\n",
    "optimizer = Adam(learning_rate=0.001,beta_1=0.9,beta_2=0.999)"
   ]
  },
  {
   "cell_type": "markdown",
   "metadata": {},
   "source": [
    "Let's create two constraints or 'callbacks' which can help us improve the training (ReduceLROnPlateau) and stop the training once it has reached a high threshold (Callback):"
   ]
  },
  {
   "cell_type": "code",
   "execution_count": 11,
   "metadata": {
    "execution": {
     "iopub.execute_input": "2022-05-29T04:41:30.496717Z",
     "iopub.status.busy": "2022-05-29T04:41:30.496327Z",
     "iopub.status.idle": "2022-05-29T04:41:30.504150Z",
     "shell.execute_reply": "2022-05-29T04:41:30.503462Z",
     "shell.execute_reply.started": "2022-05-29T04:41:30.496677Z"
    }
   },
   "outputs": [],
   "source": [
    "# Early stopping\n",
    "\n",
    "class myCallback(tf.keras.callbacks.Callback):\n",
    "  def on_epoch_end(self, epoch, logs={}):\n",
    "    if(logs.get('val_accuracy')>0.98):\n",
    "      print(\"\\nReached 98% accuracy so cancelling training!\")\n",
    "      self.model.stop_training = True\n",
    "        \n",
    "callbacks = myCallback()\n",
    "\n",
    "from keras.callbacks import ReduceLROnPlateau\n",
    "lr_reduction = ReduceLROnPlateau(monitor='val_accuracy',\n",
    "                                 patience=1, \n",
    "                                 verbose=1, \n",
    "                                 factor=0.5, \n",
    "                                 min_lr=0.000001)\n",
    "\n",
    "from keras.callbacks import EarlyStopping\n",
    "early_stopping = EarlyStopping(monitor='val_accuracy', \n",
    "                               min_delta=0.005,\n",
    "                               patience=3, \n",
    "                               verbose=1, \n",
    "                               mode='auto')"
   ]
  },
  {
   "cell_type": "code",
   "execution_count": 12,
   "metadata": {
    "execution": {
     "iopub.execute_input": "2022-05-29T04:41:30.505687Z",
     "iopub.status.busy": "2022-05-29T04:41:30.505170Z",
     "iopub.status.idle": "2022-05-29T04:41:35.687363Z",
     "shell.execute_reply": "2022-05-29T04:41:35.686591Z",
     "shell.execute_reply.started": "2022-05-29T04:41:30.505645Z"
    }
   },
   "outputs": [],
   "source": [
    "# Complie the model\n",
    "\n",
    "model_EF=Sequential()\n",
    "model_EF.add(EfficientNetB0(input_shape=(80,80,3),\n",
    "                            include_top=False,\n",
    "                            pooling='max',\n",
    "                            weights='imagenet'))\n",
    "\n",
    "\n",
    "model_EF.layers[0].trainable=False\n",
    "model_EF.add(Dense(512,activation='relu'))\n",
    "model_EF.add(Dropout(0.2))\n",
    "model_EF.add(Dense(1,activation='sigmoid'))\n",
    "model_EF.compile(optimizer=optimizer, loss='binary_crossentropy', metrics=['accuracy'])\n",
    "model_EF.summary()"
   ]
  },
  {
   "cell_type": "code",
   "execution_count": 13,
   "metadata": {
    "execution": {
     "iopub.execute_input": "2022-05-29T04:41:35.689121Z",
     "iopub.status.busy": "2022-05-29T04:41:35.688619Z",
     "iopub.status.idle": "2022-05-29T04:46:51.568851Z",
     "shell.execute_reply": "2022-05-29T04:46:51.568054Z",
     "shell.execute_reply.started": "2022-05-29T04:41:35.689085Z"
    }
   },
   "outputs": [],
   "source": [
    "#Train the model\n",
    "history1 = model_EF.fit_generator(datagen.flow(X_train, Y_train, batch_size=32),\n",
    "                                  validation_data=(X_val,Y_val), epochs=10, verbose=1,\n",
    "                                  callbacks=[callbacks, lr_reduction, early_stopping])"
   ]
  },
  {
   "cell_type": "code",
   "execution_count": 14,
   "metadata": {
    "execution": {
     "iopub.execute_input": "2022-05-29T04:46:51.571567Z",
     "iopub.status.busy": "2022-05-29T04:46:51.571241Z",
     "iopub.status.idle": "2022-05-29T04:46:51.596282Z",
     "shell.execute_reply": "2022-05-29T04:46:51.595190Z",
     "shell.execute_reply.started": "2022-05-29T04:46:51.571539Z"
    }
   },
   "outputs": [],
   "source": [
    "# Check the performance per epoch\n",
    "pd.DataFrame(history1.history)"
   ]
  },
  {
   "cell_type": "markdown",
   "metadata": {},
   "source": [
    "## VGG16 modeling"
   ]
  },
  {
   "cell_type": "code",
   "execution_count": 15,
   "metadata": {
    "execution": {
     "iopub.execute_input": "2022-05-29T04:46:51.598536Z",
     "iopub.status.busy": "2022-05-29T04:46:51.598157Z",
     "iopub.status.idle": "2022-05-29T04:47:32.581751Z",
     "shell.execute_reply": "2022-05-29T04:47:32.580958Z",
     "shell.execute_reply.started": "2022-05-29T04:46:51.598499Z"
    }
   },
   "outputs": [],
   "source": [
    "# Complie the model\n",
    "\n",
    "model_VGG=Sequential()\n",
    "model_VGG.add(VGG16(input_shape=(80,80,3),\n",
    "                    include_top=False,\n",
    "                    pooling='max',\n",
    "                    weights='imagenet'))\n",
    "model_VGG.layers[0].trainable=False\n",
    "model_VGG.add(Dense(512,activation='relu'))\n",
    "model_VGG.add(Dropout(0.2))\n",
    "model_VGG.add(Dense(1,activation='sigmoid'))\n",
    "model_VGG.compile(optimizer=optimizer, loss='binary_crossentropy', metrics=['accuracy'])\n",
    "model_VGG.summary()"
   ]
  },
  {
   "cell_type": "code",
   "execution_count": 16,
   "metadata": {
    "execution": {
     "iopub.execute_input": "2022-05-29T04:47:32.583618Z",
     "iopub.status.busy": "2022-05-29T04:47:32.583116Z",
     "iopub.status.idle": "2022-05-29T04:51:31.305130Z",
     "shell.execute_reply": "2022-05-29T04:51:31.304187Z",
     "shell.execute_reply.started": "2022-05-29T04:47:32.583581Z"
    }
   },
   "outputs": [],
   "source": [
    "# Train the model\n",
    "history2 = model_VGG.fit_generator(datagen.flow(X_train, Y_train, batch_size=32),\n",
    "                                  validation_data=(X_val,Y_val), epochs=20, verbose=1,\n",
    "                                  callbacks=[callbacks, lr_reduction, early_stopping])\n",
    "\n",
    "# Check the performance per epoch\n",
    "pd.DataFrame(history2.history)"
   ]
  },
  {
   "cell_type": "code",
   "execution_count": 17,
   "metadata": {
    "execution": {
     "iopub.execute_input": "2022-05-29T04:51:31.307266Z",
     "iopub.status.busy": "2022-05-29T04:51:31.306659Z",
     "iopub.status.idle": "2022-05-29T04:51:33.212843Z",
     "shell.execute_reply": "2022-05-29T04:51:33.211957Z",
     "shell.execute_reply.started": "2022-05-29T04:51:31.307220Z"
    }
   },
   "outputs": [],
   "source": [
    "# Save the model\n",
    "model_VGG.save('VGG_model.h5')"
   ]
  },
  {
   "cell_type": "markdown",
   "metadata": {},
   "source": [
    "## Prediction on testing data <a name=\"Prediction\"></a>\n",
    "\n",
    "\n",
    "Overall performace from EfficientNetB0 is better than VGG16.\n",
    "So use this model to make predition"
   ]
  },
  {
   "cell_type": "code",
   "execution_count": 18,
   "metadata": {
    "execution": {
     "iopub.execute_input": "2022-05-29T04:51:33.220146Z",
     "iopub.status.busy": "2022-05-29T04:51:33.217485Z",
     "iopub.status.idle": "2022-05-29T04:51:33.632840Z",
     "shell.execute_reply": "2022-05-29T04:51:33.630758Z",
     "shell.execute_reply.started": "2022-05-29T04:51:33.220104Z"
    }
   },
   "outputs": [],
   "source": [
    "X_test = np.array([j[0] for j in Images_test]).reshape(-1,IMG_SIZE, IMG_SIZE, 3)\n",
    "Index = np.array([j[1] for j in Images_test])"
   ]
  },
  {
   "cell_type": "code",
   "execution_count": 19,
   "metadata": {
    "execution": {
     "iopub.execute_input": "2022-05-29T04:51:33.641914Z",
     "iopub.status.busy": "2022-05-29T04:51:33.637743Z",
     "iopub.status.idle": "2022-05-29T04:51:39.949700Z",
     "shell.execute_reply": "2022-05-29T04:51:39.948858Z",
     "shell.execute_reply.started": "2022-05-29T04:51:33.641874Z"
    }
   },
   "outputs": [],
   "source": [
    "# Make predision\n",
    "\n",
    "test_prediction = model_EF.predict(X_test, batch_size = 32)"
   ]
  },
  {
   "cell_type": "code",
   "execution_count": 20,
   "metadata": {
    "execution": {
     "iopub.execute_input": "2022-05-29T04:51:39.951671Z",
     "iopub.status.busy": "2022-05-29T04:51:39.951317Z",
     "iopub.status.idle": "2022-05-29T04:51:39.963836Z",
     "shell.execute_reply": "2022-05-29T04:51:39.963014Z",
     "shell.execute_reply.started": "2022-05-29T04:51:39.951636Z"
    }
   },
   "outputs": [],
   "source": [
    "# Generate csv file for submission\n",
    "\n",
    "submission=pd.DataFrame(test_prediction, columns=['label'], index=pd.Series(Index, name='id'))\n",
    "submission.head()"
   ]
  },
  {
   "cell_type": "code",
   "execution_count": 21,
   "metadata": {
    "execution": {
     "iopub.execute_input": "2022-05-29T04:51:39.966323Z",
     "iopub.status.busy": "2022-05-29T04:51:39.965561Z",
     "iopub.status.idle": "2022-05-29T04:51:40.001501Z",
     "shell.execute_reply": "2022-05-29T04:51:40.000842Z",
     "shell.execute_reply.started": "2022-05-29T04:51:39.966286Z"
    }
   },
   "outputs": [],
   "source": [
    "submission.to_csv('submission.csv')"
   ]
  },
  {
   "cell_type": "code",
   "execution_count": null,
   "metadata": {},
   "outputs": [],
   "source": []
  }
 ],
 "metadata": {
  "kernelspec": {
   "display_name": "Python 3 (ipykernel)",
   "language": "python",
   "name": "python3"
  },
  "language_info": {
   "codemirror_mode": {
    "name": "ipython",
    "version": 3
   },
   "file_extension": ".py",
   "mimetype": "text/x-python",
   "name": "python",
   "nbconvert_exporter": "python",
   "pygments_lexer": "ipython3",
   "version": "3.8.13"
  },
  "toc": {
   "base_numbering": 1,
   "nav_menu": {},
   "number_sections": true,
   "sideBar": true,
   "skip_h1_title": false,
   "title_cell": "Table of Contents",
   "title_sidebar": "Contents",
   "toc_cell": false,
   "toc_position": {},
   "toc_section_display": true,
   "toc_window_display": false
  },
  "varInspector": {
   "cols": {
    "lenName": 16,
    "lenType": 16,
    "lenVar": 40
   },
   "kernels_config": {
    "python": {
     "delete_cmd_postfix": "",
     "delete_cmd_prefix": "del ",
     "library": "var_list.py",
     "varRefreshCmd": "print(var_dic_list())"
    },
    "r": {
     "delete_cmd_postfix": ") ",
     "delete_cmd_prefix": "rm(",
     "library": "var_list.r",
     "varRefreshCmd": "cat(var_dic_list()) "
    }
   },
   "types_to_exclude": [
    "module",
    "function",
    "builtin_function_or_method",
    "instance",
    "_Feature"
   ],
   "window_display": false
  }
 },
 "nbformat": 4,
 "nbformat_minor": 4
}
